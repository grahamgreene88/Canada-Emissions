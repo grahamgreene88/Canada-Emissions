{
    "metadata": {
        "kernelspec": {
            "name": "SQL",
            "display_name": "SQL",
            "language": "sql"
        },
        "language_info": {
            "name": "sql",
            "version": ""
        }
    },
    "nbformat_minor": 2,
    "nbformat": 4,
    "cells": [
        {
            "cell_type": "markdown",
            "source": [
                "\\## Objective\n",
                "\n",
                "In this project we will be looking at greenhouse gas emissions data across provinces and sectors. We will also be looking at specific facilities (and their respective industry) that have significantly high emissions.\n",
                "\n",
                "  \n",
                "\n",
                "The aim is to identify trends in emissions across provinces, industries and most importantly throughout time. As the current emission reduction goal......\n",
                "\n",
                "Sources:"
            ],
            "metadata": {
                "azdata_cell_guid": "24085db5-13e4-42a0-bb6c-7e6e354579d4"
            },
            "attachments": {}
        },
        {
            "cell_type": "code",
            "source": [
                "SELECT Source AS sector, SUM(mt_CO2eq) AS emissions\n",
                "FROM EmissionsDb.dbo.GHG_emissions_by_sector\n",
                "WHERE Year = 2021 AND Region = 'Canada'\n",
                "GROUP BY Source;"
            ],
            "metadata": {
                "azdata_cell_guid": "813ba8ad-832b-409d-bf11-85ef2d989709",
                "language": "sql",
                "tags": []
            },
            "outputs": [
                {
                    "output_type": "display_data",
                    "data": {
                        "text/html": "(10 rows affected)"
                    },
                    "metadata": {}
                },
                {
                    "output_type": "display_data",
                    "data": {
                        "text/html": "Total execution time: 00:00:00.297"
                    },
                    "metadata": {}
                },
                {
                    "output_type": "execute_result",
                    "metadata": {},
                    "execution_count": 6,
                    "data": {
                        "application/vnd.dataresource+json": {
                            "schema": {
                                "fields": [
                                    {
                                        "name": "sector"
                                    },
                                    {
                                        "name": "emissions"
                                    }
                                ]
                            },
                            "data": [
                                {
                                    "sector": "Agriculture",
                                    "emissions": "137.03364404"
                                },
                                {
                                    "sector": "Buildings",
                                    "emissions": "174.33920923"
                                },
                                {
                                    "sector": "Coal Production",
                                    "emissions": "2.601783045"
                                },
                                {
                                    "sector": "Electricity",
                                    "emissions": "51.67781389"
                                },
                                {
                                    "sector": "Heavy Industry",
                                    "emissions": "153.625105669"
                                },
                                {
                                    "sector": "Light Manufacturing, Construction and Forest Resources",
                                    "emissions": "46.597195345"
                                },
                                {
                                    "sector": "National Inventory Total",
                                    "emissions": "670.4276866"
                                },
                                {
                                    "sector": "Oil and Gas",
                                    "emissions": "678.6928810660002"
                                },
                                {
                                    "sector": "Transport",
                                    "emissions": "435.8676951510001"
                                },
                                {
                                    "sector": "Waste",
                                    "emissions": "42.16684785499999"
                                }
                            ]
                        },
                        "text/html": [
                            "<table>",
                            "<tr><th>sector</th><th>emissions</th></tr>",
                            "<tr><td>Agriculture</td><td>137.03364404</td></tr>",
                            "<tr><td>Buildings</td><td>174.33920923</td></tr>",
                            "<tr><td>Coal Production</td><td>2.601783045</td></tr>",
                            "<tr><td>Electricity</td><td>51.67781389</td></tr>",
                            "<tr><td>Heavy Industry</td><td>153.625105669</td></tr>",
                            "<tr><td>Light Manufacturing, Construction and Forest Resources</td><td>46.597195345</td></tr>",
                            "<tr><td>National Inventory Total</td><td>670.4276866</td></tr>",
                            "<tr><td>Oil and Gas</td><td>678.6928810660002</td></tr>",
                            "<tr><td>Transport</td><td>435.8676951510001</td></tr>",
                            "<tr><td>Waste</td><td>42.16684785499999</td></tr>",
                            "</table>"
                        ]
                    }
                }
            ],
            "execution_count": 6
        }
    ]
}
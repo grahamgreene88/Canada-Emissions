{
    "metadata": {
        "kernelspec": {
            "name": "SQL",
            "display_name": "SQL",
            "language": "sql"
        },
        "language_info": {
            "name": "sql",
            "version": ""
        }
    },
    "nbformat_minor": 2,
    "nbformat": 4,
    "cells": [
        {
            "cell_type": "markdown",
            "source": [
                "<span style=\"color: var(--vscode-foreground); font-family: -apple-system, BlinkMacSystemFont, sans-serif;\">In this project we will be investigating greenhouse gas emissions data across years, provinces and sectors. We will also be looking at specific facilities (and their respective industry) that have significantly high emissions.</span>\n",
                "\n",
                "The aim is to identify trends across time and differences between provinces with regards to emission levels and emission-heavy sectors.\n",
                "\n",
                "The greenhouse gas emissions data used in this project was taken from Canada's Official Greenhouse Gas Inventory: https://open.canada.ca/data/en/dataset/779c7bcf-4982-47eb-af1b-a33618a05e5b\n",
                "\n",
                "The population data was taken from statistics canada: https://www.statcan.gc.ca/en/subjects-start/population\\_and\\_demography\n",
                "\n",
                "The license for these datasets are the Open Government License: https://open.canada.ca/en/open-government-licence-canada"
            ],
            "metadata": {
                "azdata_cell_guid": "24085db5-13e4-42a0-bb6c-7e6e354579d4"
            },
            "attachments": {}
        },
        {
            "cell_type": "code",
            "source": [
                "USE EmissionsDb;"
            ],
            "metadata": {
                "azdata_cell_guid": "e561d940-f112-4aaf-a7fd-c5b94c02d454",
                "language": "sql"
            },
            "outputs": [
                {
                    "output_type": "display_data",
                    "data": {
                        "text/html": "Commands completed successfully."
                    },
                    "metadata": {}
                },
                {
                    "output_type": "display_data",
                    "data": {
                        "text/html": "Total execution time: 00:00:00.026"
                    },
                    "metadata": {}
                }
            ],
            "execution_count": 1
        },
        {
            "cell_type": "code",
            "source": [
                "-- Which year did emissions peak in Canada?\n",
                "SELECT TOP 10 Year, sum(mt_CO2eq) AS mt_CO2eq_sum\n",
                "FROM EmissionsDb.dbo.GHG_emissions_by_sector\n",
                "WHERE Region = 'Canada' \n",
                "AND Source = 'National Inventory Total'\n",
                "GROUP BY  Year\n",
                "ORDER BY mt_CO2eq_sum DESC;"
            ],
            "metadata": {
                "azdata_cell_guid": "f95abc3b-deae-4554-95e7-3b424f9b4735",
                "language": "sql",
                "tags": []
            },
            "outputs": [
                {
                    "output_type": "display_data",
                    "data": {
                        "text/html": "(10 rows affected)"
                    },
                    "metadata": {}
                },
                {
                    "output_type": "display_data",
                    "data": {
                        "text/html": "Total execution time: 00:00:00.049"
                    },
                    "metadata": {}
                },
                {
                    "output_type": "execute_result",
                    "execution_count": 3,
                    "data": {
                        "application/vnd.dataresource+json": {
                            "schema": {
                                "fields": [
                                    {
                                        "name": "Year"
                                    },
                                    {
                                        "name": "mt_CO2eq_sum"
                                    }
                                ]
                            },
                            "data": [
                                {
                                    "Year": "2007",
                                    "mt_CO2eq_sum": "748.0700868"
                                },
                                {
                                    "Year": "2004",
                                    "mt_CO2eq_sum": "736.7254679"
                                },
                                {
                                    "Year": "2003",
                                    "mt_CO2eq_sum": "734.1405466"
                                },
                                {
                                    "Year": "2005",
                                    "mt_CO2eq_sum": "732.2187885"
                                },
                                {
                                    "Year": "2008",
                                    "mt_CO2eq_sum": "730.8012349"
                                },
                                {
                                    "Year": "2006",
                                    "mt_CO2eq_sum": "725.286361"
                                },
                                {
                                    "Year": "2018",
                                    "mt_CO2eq_sum": "724.6149832"
                                },
                                {
                                    "Year": "2019",
                                    "mt_CO2eq_sum": "723.6793027"
                                },
                                {
                                    "Year": "2013",
                                    "mt_CO2eq_sum": "723.0963086"
                                },
                                {
                                    "Year": "2015",
                                    "mt_CO2eq_sum": "722.9164176"
                                }
                            ]
                        },
                        "text/html": "<table><tr><th>Year</th><th>mt_CO2eq_sum</th></tr><tr><td>2007</td><td>748.0700868</td></tr><tr><td>2004</td><td>736.7254679</td></tr><tr><td>2003</td><td>734.1405466</td></tr><tr><td>2005</td><td>732.2187885</td></tr><tr><td>2008</td><td>730.8012349</td></tr><tr><td>2006</td><td>725.286361</td></tr><tr><td>2018</td><td>724.6149832</td></tr><tr><td>2019</td><td>723.6793027</td></tr><tr><td>2013</td><td>723.0963086</td></tr><tr><td>2015</td><td>722.9164176</td></tr></table>"
                    },
                    "metadata": {}
                }
            ],
            "execution_count": 3
        },
        {
            "cell_type": "markdown",
            "source": [
                "From the table above, we can see that Canada's CO2eq emissions had a peak in 2007, but total emissions have been fairly constant for the last two decades. Let's look at the most recent year (2021) and determine how each indsutry contributed to the overall Canadian emissions that year."
            ],
            "metadata": {
                "language": "sql",
                "azdata_cell_guid": "717589e5-0cac-4686-a687-0e8f2ac04525"
            },
            "attachments": {}
        },
        {
            "cell_type": "code",
            "source": [
                "SELECT Source AS sector, SUM(mt_CO2eq) AS emissions\n",
                "FROM EmissionsDb.dbo.GHG_emissions_by_sector\n",
                "WHERE Year = 2021 \n",
                "AND Region = 'Canada' \n",
                "AND Sector IS NULL \n",
                "AND Source NOT LIKE 'Nat%'\n",
                "GROUP BY Source\n",
                "ORDER BY emissions DESC;"
            ],
            "metadata": {
                "language": "sql",
                "azdata_cell_guid": "f1e1df3e-46db-4884-be81-f5d20c947680"
            },
            "outputs": [
                {
                    "output_type": "display_data",
                    "data": {
                        "text/html": "(9 rows affected)"
                    },
                    "metadata": {}
                },
                {
                    "output_type": "display_data",
                    "data": {
                        "text/html": "Total execution time: 00:00:00.029"
                    },
                    "metadata": {}
                },
                {
                    "output_type": "execute_result",
                    "execution_count": 4,
                    "data": {
                        "application/vnd.dataresource+json": {
                            "schema": {
                                "fields": [
                                    {
                                        "name": "sector"
                                    },
                                    {
                                        "name": "emissions"
                                    }
                                ]
                            },
                            "data": [
                                {
                                    "sector": "Oil and Gas",
                                    "emissions": "189.1523515"
                                },
                                {
                                    "sector": "Transport",
                                    "emissions": "150.1147371"
                                },
                                {
                                    "sector": "Buildings",
                                    "emissions": "87.16960461"
                                },
                                {
                                    "sector": "Heavy Industry",
                                    "emissions": "76.81255283"
                                },
                                {
                                    "sector": "Agriculture",
                                    "emissions": "68.51682202"
                                },
                                {
                                    "sector": "Electricity",
                                    "emissions": "51.67781389"
                                },
                                {
                                    "sector": "Light Manufacturing, Construction and Forest Resources",
                                    "emissions": "23.29859767"
                                },
                                {
                                    "sector": "Waste",
                                    "emissions": "21.08342393"
                                },
                                {
                                    "sector": "Coal Production",
                                    "emissions": "2.601783045"
                                }
                            ]
                        },
                        "text/html": "<table><tr><th>sector</th><th>emissions</th></tr><tr><td>Oil and Gas</td><td>189.1523515</td></tr><tr><td>Transport</td><td>150.1147371</td></tr><tr><td>Buildings</td><td>87.16960461</td></tr><tr><td>Heavy Industry</td><td>76.81255283</td></tr><tr><td>Agriculture</td><td>68.51682202</td></tr><tr><td>Electricity</td><td>51.67781389</td></tr><tr><td>Light Manufacturing, Construction and Forest Resources</td><td>23.29859767</td></tr><tr><td>Waste</td><td>21.08342393</td></tr><tr><td>Coal Production</td><td>2.601783045</td></tr></table>"
                    },
                    "metadata": {}
                }
            ],
            "execution_count": 4
        },
        {
            "cell_type": "markdown",
            "source": [
                "In 2021, the oil and gas industry accounted for the most emissions in Canada followed by the transport industry. The lowest contributors were coal production, waste and light manufacturing.\n",
                "\n",
                "We'll now join on our population table to investigate the CO2 emissions per capita of each province in 2021. We'll look at emissions per capita in tons instead of megatons to keep our numbers at a good scale."
            ],
            "metadata": {
                "azdata_cell_guid": "a5b00306-2625-4129-9f3d-c2b3692510ad"
            },
            "attachments": {}
        },
        {
            "cell_type": "code",
            "source": [
                "-- emissions per capita in each province\n",
                "SELECT Province, (mt_CO2eq * 1000000 / Population) AS emissions_per_capita_tons\n",
                "FROM GHG_emissions_by_sector AS em\n",
                "    -- inner join on population table\n",
                "    INNER JOIN canada_population AS pop\n",
                "    ON em.Year = pop.Year \n",
                "    AND em.Region = pop.Province\n",
                "WHERE em.Year = 2021\n",
                "    -- only using provincial inventory total emissions\n",
                "AND Source LIKE '%Total'\n",
                "ORDER BY emissions_per_capita_tons DESC;"
            ],
            "metadata": {
                "azdata_cell_guid": "83f76b8e-7aec-4956-be41-4220fccda060",
                "language": "sql",
                "tags": []
            },
            "outputs": [
                {
                    "output_type": "display_data",
                    "data": {
                        "text/html": "(13 rows affected)"
                    },
                    "metadata": {}
                },
                {
                    "output_type": "display_data",
                    "data": {
                        "text/html": "Total execution time: 00:00:00.031"
                    },
                    "metadata": {}
                },
                {
                    "output_type": "execute_result",
                    "execution_count": 10,
                    "data": {
                        "application/vnd.dataresource+json": {
                            "schema": {
                                "fields": [
                                    {
                                        "name": "Province"
                                    },
                                    {
                                        "name": "emissions_per_capita_tons"
                                    }
                                ]
                            },
                            "data": [
                                {
                                    "Province": "Alberta",
                                    "emissions_per_capita_tons": "57.64218901370524"
                                },
                                {
                                    "Province": "Saskatchewan",
                                    "emissions_per_capita_tons": "56.79830610084021"
                                },
                                {
                                    "Province": "Canada",
                                    "emissions_per_capita_tons": "17.53829729838187"
                                },
                                {
                                    "Province": "Newfoundland and Labrador",
                                    "emissions_per_capita_tons": "16.016960714917037"
                                },
                                {
                                    "Province": "Nunavut",
                                    "emissions_per_capita_tons": "15.762852433834455"
                                },
                                {
                                    "Province": "Yukon",
                                    "emissions_per_capita_tons": "15.030616462427746"
                                },
                                {
                                    "Province": "New Brunswick",
                                    "emissions_per_capita_tons": "15.016297928385447"
                                },
                                {
                                    "Province": "Manitoba",
                                    "emissions_per_capita_tons": "14.872245342781751"
                                },
                                {
                                    "Province": "Nova Scotia",
                                    "emissions_per_capita_tons": "14.730859323369494"
                                },
                                {
                                    "Province": "British Columbia",
                                    "emissions_per_capita_tons": "11.424864554248078"
                                },
                                {
                                    "Province": "Ontario",
                                    "emissions_per_capita_tons": "10.166720227760244"
                                },
                                {
                                    "Province": "Prince Edward Island",
                                    "emissions_per_capita_tons": "9.875018044647302"
                                },
                                {
                                    "Province": "Quebec",
                                    "emissions_per_capita_tons": "9.00657871264023"
                                }
                            ]
                        },
                        "text/html": "<table><tr><th>Province</th><th>emissions_per_capita_tons</th></tr><tr><td>Alberta</td><td>57.64218901370524</td></tr><tr><td>Saskatchewan</td><td>56.79830610084021</td></tr><tr><td>Canada</td><td>17.53829729838187</td></tr><tr><td>Newfoundland and Labrador</td><td>16.016960714917037</td></tr><tr><td>Nunavut</td><td>15.762852433834455</td></tr><tr><td>Yukon</td><td>15.030616462427746</td></tr><tr><td>New Brunswick</td><td>15.016297928385447</td></tr><tr><td>Manitoba</td><td>14.872245342781751</td></tr><tr><td>Nova Scotia</td><td>14.730859323369494</td></tr><tr><td>British Columbia</td><td>11.424864554248078</td></tr><tr><td>Ontario</td><td>10.166720227760244</td></tr><tr><td>Prince Edward Island</td><td>9.875018044647302</td></tr><tr><td>Quebec</td><td>9.00657871264023</td></tr></table>"
                    },
                    "metadata": {}
                }
            ],
            "execution_count": 10
        },
        {
            "cell_type": "markdown",
            "source": [
                "From the table above, we can see that Alberta had the highest emissions per capita in 2021, followed by Saskatchewan. These provinces had higher emissions per capita than Canada overall. Prince Edward Island and Quebec had the lowest emissions per capita.\n",
                "\n",
                "Let's look at the highest emitting sectors in each province now."
            ],
            "metadata": {
                "azdata_cell_guid": "c9246f0a-20c9-456f-8b7a-8155cc018f3f"
            },
            "attachments": {}
        },
        {
            "cell_type": "code",
            "source": [
                "-- outer query joins original table with subquery to match sector names with highest-emitting sectors\n",
                "SELECT highest_sector.Region, ebs.Source AS Sector, highest_sector.max_emissions AS [Emissions(MT)]\n",
                "FROM GHG_emissions_by_sector AS ebs\n",
                "    INNER JOIN (\n",
                "        -- this subquery returns each province and its emissions from highest-emitting sector but w/o sector names\n",
                "        SELECT Region, MAX(mt_CO2eq) AS max_emissions\n",
                "        FROM GHG_emissions_by_sector\n",
                "        WHERE Year = '2021'\n",
                "        -- to get only total emissions for sector\n",
                "        AND Sector IS NULL\n",
                "        -- don't want provincial total \n",
                "        AND Source NOT LIKE '%Total'\n",
                "        GROUP BY Region) AS highest_sector\n",
                "    ON ebs.Region = highest_sector.Region\n",
                "    AND ebs.mt_CO2eq = highest_sector.max_emissions\n",
                "ORDER BY Sector;"
            ],
            "metadata": {
                "azdata_cell_guid": "2c553ff6-862d-4622-a403-4abdb8dd3cc2",
                "language": "sql",
                "tags": []
            },
            "outputs": [
                {
                    "output_type": "display_data",
                    "data": {
                        "text/html": "Warning: Null value is eliminated by an aggregate or other SET operation."
                    },
                    "metadata": {}
                },
                {
                    "output_type": "display_data",
                    "data": {
                        "text/html": "(14 rows affected)"
                    },
                    "metadata": {}
                },
                {
                    "output_type": "display_data",
                    "data": {
                        "text/html": "Total execution time: 00:00:00.035"
                    },
                    "metadata": {}
                },
                {
                    "output_type": "execute_result",
                    "execution_count": 77,
                    "data": {
                        "application/vnd.dataresource+json": {
                            "schema": {
                                "fields": [
                                    {
                                        "name": "Region"
                                    },
                                    {
                                        "name": "Sector"
                                    },
                                    {
                                        "name": "Emissions(MT)"
                                    }
                                ]
                            },
                            "data": [
                                {
                                    "Region": "Manitoba",
                                    "Sector": "Agriculture",
                                    "Emissions(MT)": "7.271065328"
                                },
                                {
                                    "Region": "Nova Scotia",
                                    "Sector": "Electricity",
                                    "Emissions(MT)": "6.084949956"
                                },
                                {
                                    "Region": "New Brunswick",
                                    "Sector": "Oil and Gas",
                                    "Emissions(MT)": "3.079905636"
                                },
                                {
                                    "Region": "Saskatchewan",
                                    "Sector": "Oil and Gas",
                                    "Emissions(MT)": "16.5757484"
                                },
                                {
                                    "Region": "Alberta",
                                    "Sector": "Oil and Gas",
                                    "Emissions(MT)": "144.7288326"
                                },
                                {
                                    "Region": "Canada",
                                    "Sector": "Oil and Gas",
                                    "Emissions(MT)": "189.1523515"
                                },
                                {
                                    "Region": "Newfoundland and Labrador",
                                    "Sector": "Transport",
                                    "Emissions(MT)": "3.494964056"
                                },
                                {
                                    "Region": "Prince Edward Island",
                                    "Sector": "Transport",
                                    "Emissions(MT)": "0.659413914"
                                },
                                {
                                    "Region": "British Columbia",
                                    "Sector": "Transport",
                                    "Emissions(MT)": "21.61338393"
                                },
                                {
                                    "Region": "Yukon",
                                    "Sector": "Transport",
                                    "Emissions(MT)": "0.358667976"
                                },
                                {
                                    "Region": "Northwest Territories",
                                    "Sector": "Transport",
                                    "Emissions(MT)": "0.599007101"
                                },
                                {
                                    "Region": "Nunavut",
                                    "Sector": "Transport",
                                    "Emissions(MT)": "0.342058227"
                                },
                                {
                                    "Region": "Quebec",
                                    "Sector": "Transport",
                                    "Emissions(MT)": "29.29279795"
                                },
                                {
                                    "Region": "Ontario",
                                    "Sector": "Transport",
                                    "Emissions(MT)": "47.22401238"
                                }
                            ]
                        },
                        "text/html": "<table><tr><th>Region</th><th>Sector</th><th>Emissions(MT)</th></tr><tr><td>Manitoba</td><td>Agriculture</td><td>7.271065328</td></tr><tr><td>Nova Scotia</td><td>Electricity</td><td>6.084949956</td></tr><tr><td>New Brunswick</td><td>Oil and Gas</td><td>3.079905636</td></tr><tr><td>Saskatchewan</td><td>Oil and Gas</td><td>16.5757484</td></tr><tr><td>Alberta</td><td>Oil and Gas</td><td>144.7288326</td></tr><tr><td>Canada</td><td>Oil and Gas</td><td>189.1523515</td></tr><tr><td>Newfoundland and Labrador</td><td>Transport</td><td>3.494964056</td></tr><tr><td>Prince Edward Island</td><td>Transport</td><td>0.659413914</td></tr><tr><td>British Columbia</td><td>Transport</td><td>21.61338393</td></tr><tr><td>Yukon</td><td>Transport</td><td>0.358667976</td></tr><tr><td>Northwest Territories</td><td>Transport</td><td>0.599007101</td></tr><tr><td>Nunavut</td><td>Transport</td><td>0.342058227</td></tr><tr><td>Quebec</td><td>Transport</td><td>29.29279795</td></tr><tr><td>Ontario</td><td>Transport</td><td>47.22401238</td></tr></table>"
                    },
                    "metadata": {}
                }
            ],
            "execution_count": 77
        },
        {
            "cell_type": "markdown",
            "source": [
                "In 2021, the highest emitting sectors in Alberta and Saskatchewan were Oil and Gas. For most other provinces and territories the transport sector had the highest emissions.\n",
                "\n",
                "Let's now look at high emitting facilities across Canada. Facilities that emit over 10 kilotonnes of GHGs in CO2eq are mandated to report their emissions to Environment & Climate Change Canada.\n",
                "\n",
                "What were the top 5 GHG emitting facilities in Canada in 2021 and where are they located?"
            ],
            "metadata": {
                "azdata_cell_guid": "327f1f77-acc2-4f8a-9340-457a2ddac73d"
            },
            "attachments": {}
        },
        {
            "cell_type": "code",
            "source": [
                "-- Selecting top 5 emitting facilities in Canada\n",
                "SELECT TOP 5 facility_name, municipality, province, total_emissions_tonnes_CO2e / 1000000 AS emissions\n",
                "FROM facility_emissions\n",
                "WHERE reference_year = 2021\n",
                "ORDER BY emissions DESC;"
            ],
            "metadata": {
                "azdata_cell_guid": "7a80838a-9573-4e3e-9cda-d2dd0432dab8",
                "language": "sql"
            },
            "outputs": [
                {
                    "output_type": "display_data",
                    "data": {
                        "text/html": "(5 rows affected)"
                    },
                    "metadata": {}
                },
                {
                    "output_type": "display_data",
                    "data": {
                        "text/html": "Total execution time: 00:00:00.025"
                    },
                    "metadata": {}
                },
                {
                    "output_type": "execute_result",
                    "execution_count": 84,
                    "data": {
                        "application/vnd.dataresource+json": {
                            "schema": {
                                "fields": [
                                    {
                                        "name": "facility_name"
                                    },
                                    {
                                        "name": "municipality"
                                    },
                                    {
                                        "name": "province"
                                    },
                                    {
                                        "name": "emissions"
                                    }
                                ]
                            },
                            "data": [
                                {
                                    "facility_name": "Mildred Lake and Aurora Plant Sites",
                                    "municipality": "Fort McMurray",
                                    "province": "Alberta",
                                    "emissions": "12.50201383"
                                },
                                {
                                    "facility_name": "Suncor Energy Inc. Oil Sands",
                                    "municipality": "Fort McMurray",
                                    "province": "Alberta",
                                    "emissions": "8.030929245"
                                },
                                {
                                    "facility_name": "Genesee Thermal Generating Station",
                                    "municipality": "Warburg",
                                    "province": "Alberta",
                                    "emissions": "7.5937774529999995"
                                },
                                {
                                    "facility_name": "Cold Lake",
                                    "municipality": "Grande Centre",
                                    "province": "Alberta",
                                    "emissions": "5.771388332000001"
                                },
                                {
                                    "facility_name": "Firebag",
                                    "municipality": "Ft. McMurray",
                                    "province": "Alberta",
                                    "emissions": "5.582564512"
                                }
                            ]
                        },
                        "text/html": "<table><tr><th>facility_name</th><th>municipality</th><th>province</th><th>emissions</th></tr><tr><td>Mildred Lake and Aurora Plant Sites</td><td>Fort McMurray</td><td>Alberta</td><td>12.50201383</td></tr><tr><td>Suncor Energy Inc. Oil Sands</td><td>Fort McMurray</td><td>Alberta</td><td>8.030929245</td></tr><tr><td>Genesee Thermal Generating Station</td><td>Warburg</td><td>Alberta</td><td>7.5937774529999995</td></tr><tr><td>Cold Lake</td><td>Grande Centre</td><td>Alberta</td><td>5.771388332000001</td></tr><tr><td>Firebag</td><td>Ft. McMurray</td><td>Alberta</td><td>5.582564512</td></tr></table>"
                    },
                    "metadata": {}
                }
            ],
            "execution_count": 84
        },
        {
            "cell_type": "markdown",
            "source": [
                "It is no surprise to see that the top emitting facilities in Canada are all in Alberta.\n",
                "\n",
                "  \n",
                "\n",
                "What is the top <span style=\"font-family: -apple-system, BlinkMacSystemFont, sans-serif; color: var(--vscode-foreground);\">emitting facility in each province and how much of its provinces emissions does each account for?</span>"
            ],
            "metadata": {
                "language": "sql",
                "azdata_cell_guid": "0ffa8c4b-a62a-4cab-bddc-6c98a0ce975f"
            },
            "attachments": {}
        },
        {
            "cell_type": "code",
            "source": [
                " -- outer query joins facility, municipality names\n",
                " SELECT outside.facility_name, outside.province, outside.municipality, ROUND(inside.emissions, 2) AS emissions, \n",
                " ROUND((inside.emissions / mt_CO2eq * 100), 2) AS percent_prov_emissions \n",
                " FROM facility_emissions AS outside\n",
                "    -- join adds facility names\n",
                "    INNER JOIN (\n",
                "        -- query returns emissions for most emitting facility in each province but no facility names\n",
                "        SELECT province, MAX(total_emissions_tonnes_CO2e) / 1000000 AS emissions\n",
                "        FROM facility_emissions\n",
                "        WHERE reference_year = 2021\n",
                "        GROUP BY province) AS inside\n",
                "    ON outside.province = inside.province\n",
                "    AND (outside.total_emissions_tonnes_CO2e) / 1000000 = inside.emissions\n",
                "    -- join to retrieve total emissions for each province\n",
                "    LEFT JOIN GHG_emissions_by_sector AS ges\n",
                "    ON outside.province = ges.region\n",
                "    AND ges.Year = 2021\n",
                "    AND ges.Source = 'Provincial Inventory Total';"
            ],
            "metadata": {
                "language": "sql",
                "azdata_cell_guid": "58195ed5-e249-46f9-9145-c4c95cde1e03"
            },
            "outputs": [
                {
                    "output_type": "display_data",
                    "data": {
                        "text/html": "(13 rows affected)"
                    },
                    "metadata": {}
                },
                {
                    "output_type": "display_data",
                    "data": {
                        "text/html": "Total execution time: 00:00:00.057"
                    },
                    "metadata": {}
                },
                {
                    "output_type": "execute_result",
                    "execution_count": 98,
                    "data": {
                        "application/vnd.dataresource+json": {
                            "schema": {
                                "fields": [
                                    {
                                        "name": "facility_name"
                                    },
                                    {
                                        "name": "province"
                                    },
                                    {
                                        "name": "municipality"
                                    },
                                    {
                                        "name": "emissions"
                                    },
                                    {
                                        "name": "percent_prov_emissions"
                                    }
                                ]
                            },
                            "data": [
                                {
                                    "facility_name": "Algoma Steel Inc",
                                    "province": "Ontario",
                                    "municipality": "Sault Ste. Marie",
                                    "emissions": "4.11",
                                    "percent_prov_emissions": "2.73"
                                },
                                {
                                    "facility_name": "Boundary Dam Power Station",
                                    "province": "Saskatchewan",
                                    "municipality": "Estevan",
                                    "emissions": "4.29",
                                    "percent_prov_emissions": "6.39"
                                },
                                {
                                    "facility_name": "Carol Project",
                                    "province": "Newfoundland and Labrador",
                                    "municipality": "Labrador City",
                                    "emissions": "0.89",
                                    "percent_prov_emissions": "10.68"
                                },
                                {
                                    "facility_name": "Cavendish Farms",
                                    "province": "Prince Edward Island",
                                    "municipality": "New Annan",
                                    "emissions": "0.09",
                                    "percent_prov_emissions": "5.43"
                                },
                                {
                                    "facility_name": "Lingan Generating Station",
                                    "province": "Nova Scotia",
                                    "municipality": "Lingan",
                                    "emissions": "2.64",
                                    "percent_prov_emissions": "18.07"
                                },
                                {
                                    "facility_name": "Mildred Lake and Aurora Plant Sites",
                                    "province": "Alberta",
                                    "municipality": "Fort McMurray",
                                    "emissions": "12.5",
                                    "percent_prov_emissions": "4.88"
                                },
                                {
                                    "facility_name": "Transmission Mainline - BC",
                                    "province": "British Columbia",
                                    "municipality": "Prince George",
                                    "emissions": "1.1",
                                    "percent_prov_emissions": "1.84"
                                },
                                {
                                    "facility_name": "Irving Oil Refinery",
                                    "province": "New Brunswick",
                                    "municipality": "Saint John",
                                    "emissions": "3.06",
                                    "percent_prov_emissions": "25.79"
                                },
                                {
                                    "facility_name": "Koch Fertilizer Canada, ULC",
                                    "province": "Manitoba",
                                    "municipality": "Brandon",
                                    "emissions": "0.65",
                                    "percent_prov_emissions": "3.14"
                                },
                                {
                                    "facility_name": "Diavik Diamond Mines (2012) Inc.",
                                    "province": "Northwest Territories",
                                    "municipality": "Yellowknife",
                                    "emissions": "0.19",
                                    "percent_prov_emissions": "NULL"
                                },
                                {
                                    "facility_name": "Division Meadowbank",
                                    "province": "Nunavut",
                                    "municipality": "Baker Lake",
                                    "emissions": "0.24",
                                    "percent_prov_emissions": "NULL"
                                },
                                {
                                    "facility_name": "Ciment McInnis Inc.",
                                    "province": "Quebec",
                                    "municipality": "Port-Daniel-Gascons",
                                    "emissions": "1.43",
                                    "percent_prov_emissions": "1.85"
                                },
                                {
                                    "facility_name": "Whitehorse Rapids Diesel Generating Station",
                                    "province": "Yukon",
                                    "municipality": "Whitehorse",
                                    "emissions": "0.02",
                                    "percent_prov_emissions": "NULL"
                                }
                            ]
                        },
                        "text/html": "<table><tr><th>facility_name</th><th>province</th><th>municipality</th><th>emissions</th><th>percent_prov_emissions</th></tr><tr><td>Algoma Steel Inc</td><td>Ontario</td><td>Sault Ste. Marie</td><td>4.11</td><td>2.73</td></tr><tr><td>Boundary Dam Power Station</td><td>Saskatchewan</td><td>Estevan</td><td>4.29</td><td>6.39</td></tr><tr><td>Carol Project</td><td>Newfoundland and Labrador</td><td>Labrador City</td><td>0.89</td><td>10.68</td></tr><tr><td>Cavendish Farms</td><td>Prince Edward Island</td><td>New Annan</td><td>0.09</td><td>5.43</td></tr><tr><td>Lingan Generating Station</td><td>Nova Scotia</td><td>Lingan</td><td>2.64</td><td>18.07</td></tr><tr><td>Mildred Lake and Aurora Plant Sites</td><td>Alberta</td><td>Fort McMurray</td><td>12.5</td><td>4.88</td></tr><tr><td>Transmission Mainline - BC</td><td>British Columbia</td><td>Prince George</td><td>1.1</td><td>1.84</td></tr><tr><td>Irving Oil Refinery</td><td>New Brunswick</td><td>Saint John</td><td>3.06</td><td>25.79</td></tr><tr><td>Koch Fertilizer Canada, ULC</td><td>Manitoba</td><td>Brandon</td><td>0.65</td><td>3.14</td></tr><tr><td>Diavik Diamond Mines (2012) Inc.</td><td>Northwest Territories</td><td>Yellowknife</td><td>0.19</td><td>NULL</td></tr><tr><td>Division Meadowbank</td><td>Nunavut</td><td>Baker Lake</td><td>0.24</td><td>NULL</td></tr><tr><td>Ciment McInnis Inc.</td><td>Quebec</td><td>Port-Daniel-Gascons</td><td>1.43</td><td>1.85</td></tr><tr><td>Whitehorse Rapids Diesel Generating Station</td><td>Yukon</td><td>Whitehorse</td><td>0.02</td><td>NULL</td></tr></table>"
                    },
                    "metadata": {}
                }
            ],
            "execution_count": 98
        },
        {
            "cell_type": "markdown",
            "source": [
                "The query result above shows the top emitting facility for each province, its emissions in 2021 in megatons of CO2eq, and its contribution to total provincial emissions. It is interesting to see provinces like New Brunswick and Nova Scotia whose highest emitting facilities account for about 26% and 18% of total provincial emissions respectively. This is unlike most of the larger provinces where the largest emitter accounts for a much smaller portion of total emissions.\n",
                "\n",
                "Total emissions data is not available for the territories, resulting in NULL values in those rows.\n",
                "\n",
                "Which reporting companies had the highest total emissions across their facilities in 2021?"
            ],
            "metadata": {
                "azdata_cell_guid": "8703cfb6-88e0-48f2-95eb-949d9c06b2d9"
            },
            "attachments": {}
        },
        {
            "cell_type": "code",
            "source": [
                "-- identifying top 10 companies with highest emissions across all facilities in Canada\n",
                "SELECT TOP 10 company_legal_name AS company, ROUND(SUM(total_emissions_tonnes_CO2e) / 1000000, 2) AS emissions, COUNT(*) as num_facilities\n",
                "FROM facility_emissions\n",
                "WHERE reference_year = 2021\n",
                "GROUP BY company_legal_name\n",
                "ORDER BY emissions DESC;"
            ],
            "metadata": {
                "azdata_cell_guid": "d92b13f6-c20b-4028-8987-0916b156f77f",
                "language": "sql"
            },
            "outputs": [
                {
                    "output_type": "display_data",
                    "data": {
                        "text/html": "(10 rows affected)"
                    },
                    "metadata": {}
                },
                {
                    "output_type": "display_data",
                    "data": {
                        "text/html": "Total execution time: 00:00:00.018"
                    },
                    "metadata": {}
                },
                {
                    "output_type": "execute_result",
                    "execution_count": 109,
                    "data": {
                        "application/vnd.dataresource+json": {
                            "schema": {
                                "fields": [
                                    {
                                        "name": "company"
                                    },
                                    {
                                        "name": "emissions"
                                    },
                                    {
                                        "name": "num_facilities"
                                    }
                                ]
                            },
                            "data": [
                                {
                                    "company": "Canadian Natural Resources Limited",
                                    "emissions": "14.96",
                                    "num_facilities": "78"
                                },
                                {
                                    "company": "Suncor Energy Oil Sands Limited Partnership",
                                    "emissions": "14.03",
                                    "num_facilities": "3"
                                },
                                {
                                    "company": "Saskatchewan Power Corporation",
                                    "emissions": "13.25",
                                    "num_facilities": "10"
                                },
                                {
                                    "company": "Syncrude Canada Ltd.",
                                    "emissions": "12.5",
                                    "num_facilities": "1"
                                },
                                {
                                    "company": "Imperial Oil Resources Limited",
                                    "emissions": "8.87",
                                    "num_facilities": "2"
                                },
                                {
                                    "company": "Capital Power Generation Services Inc.",
                                    "emissions": "7.59",
                                    "num_facilities": "1"
                                },
                                {
                                    "company": "Cenovus FCCL Ltd.",
                                    "emissions": "7.38",
                                    "num_facilities": "2"
                                },
                                {
                                    "company": "Husky Oil Operations Limited",
                                    "emissions": "6.69",
                                    "num_facilities": "31"
                                },
                                {
                                    "company": "TransAlta Generation Partnership",
                                    "emissions": "6.31",
                                    "num_facilities": "3"
                                },
                                {
                                    "company": "Nova Scotia Power Incorporated",
                                    "emissions": "6.1",
                                    "num_facilities": "6"
                                }
                            ]
                        },
                        "text/html": "<table><tr><th>company</th><th>emissions</th><th>num_facilities</th></tr><tr><td>Canadian Natural Resources Limited</td><td>14.96</td><td>78</td></tr><tr><td>Suncor Energy Oil Sands Limited Partnership</td><td>14.03</td><td>3</td></tr><tr><td>Saskatchewan Power Corporation</td><td>13.25</td><td>10</td></tr><tr><td>Syncrude Canada Ltd.</td><td>12.5</td><td>1</td></tr><tr><td>Imperial Oil Resources Limited</td><td>8.87</td><td>2</td></tr><tr><td>Capital Power Generation Services Inc.</td><td>7.59</td><td>1</td></tr><tr><td>Cenovus FCCL Ltd.</td><td>7.38</td><td>2</td></tr><tr><td>Husky Oil Operations Limited</td><td>6.69</td><td>31</td></tr><tr><td>TransAlta Generation Partnership</td><td>6.31</td><td>3</td></tr><tr><td>Nova Scotia Power Incorporated</td><td>6.1</td><td>6</td></tr></table>"
                    },
                    "metadata": {}
                }
            ],
            "execution_count": 109
        },
        {
            "cell_type": "markdown",
            "source": [
                "The companies with the largest emissions across all their facilities are mostly oil and gas companies. It is interesting to see that Canadian Natural Resources (CNL) and Suncor Energy both have similar total emissions but very different facility numbers. CNL has 78 facilities (compared to 3 for Suncor) which indicates that each CNL facility likely produces a lot less GHGs than each Suncor facility."
            ],
            "metadata": {
                "language": "sql",
                "azdata_cell_guid": "36bf28c9-7f75-4b2a-b3a1-44f4a5177577"
            },
            "attachments": {}
        }
    ]
}